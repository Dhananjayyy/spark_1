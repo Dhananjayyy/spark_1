{
    "nbformat_minor": 1, 
    "cells": [
        {
            "source": "# Assignment 3\n\nWelcome to Assignment 3. This will be even more fun. Now we will calculate statistical measures on the test data you have created.\n\nYOU ARE NOT ALLOWED TO USE ANY OTHER 3RD PARTY LIBRARIES LIKE PANDAS. PLEASE ONLY MODIFY CONTENT INSIDE THE FUNCTION SKELETONS\nPlease read why: https://www.coursera.org/learn/exploring-visualizing-iot-data/discussions/weeks/3/threads/skjCbNgeEeapeQ5W6suLkA\n. Just make sure you hit the play button on each cell from top to down. There are seven functions you have to implement. Please also make sure than on each change on a function you hit the play button again on the corresponding cell to make it available to the rest of this notebook.\nPlease also make sure to only implement the function bodies and DON'T add any additional code outside functions since this might confuse the autograder.\n\nSo the function below is used to make it easy for you to create a data frame from a cloudant data frame using the so called \"DataSource\" which is some sort of a plugin which allows ApacheSpark to use different data sources.\n", 
            "cell_type": "markdown", 
            "metadata": {}
        }, 
        {
            "source": "All functions can be implemented using DataFrames, ApacheSparkSQL or RDDs. We are only interested in the result. You are given the reference to the data frame in the \"df\" parameter and in case you want to use SQL just use the \"spark\" parameter which is a reference to the global SparkSession object. Finally if you want to use RDDs just use \"df.rdd\" for obtaining a reference to the underlying RDD object. \n\nLet's start with the first function. Please calculate the minimal temperature for the test data set you have created. We've provided a little skeleton for you in case you want to use SQL. You can use this skeleton for all subsequent functions. Everything can be implemented using SQL only if you like.", 
            "cell_type": "markdown", 
            "metadata": {}
        }, 
        {
            "execution_count": 141, 
            "cell_type": "code", 
            "metadata": {}, 
            "outputs": [], 
            "source": "def minTemperature(df,spark):\n #   return spark.sql(\"SELECT MIN('temperature') as mintemp from washing3\").first().mintemp\n    return spark.sql(\"SELECT MIN(temperature) as mintemp from washing3\").first().mintemp"
        }, 
        {
            "source": "Please now do the same for the mean of the temperature", 
            "cell_type": "markdown", 
            "metadata": {}
        }, 
        {
            "execution_count": 142, 
            "cell_type": "code", 
            "metadata": {}, 
            "outputs": [], 
            "source": "def meanTemperature(df,spark):\n    return spark.sql(\"SELECT avg(temperature) as avgtemp from washing3\").first().avgtemp"
        }, 
        {
            "source": "Please now do the same for the maximum of the temperature", 
            "cell_type": "markdown", 
            "metadata": {}
        }, 
        {
            "execution_count": 143, 
            "cell_type": "code", 
            "metadata": {}, 
            "outputs": [], 
            "source": "def maxTemperature(df,spark):\n    return spark.sql(\"SELECT max(temperature) as maxtemp from washing3\").first().maxtemp"
        }, 
        {
            "source": "Please now do the same for the standard deviation of the temperature", 
            "cell_type": "markdown", 
            "metadata": {}
        }, 
        {
            "execution_count": 144, 
            "cell_type": "code", 
            "metadata": {}, 
            "outputs": [], 
            "source": "def count1(df,spark):\n        return spark.sql(\"SELECT count(frequency) as count1 from washing3\").first().count1"
        }, 
        {
            "execution_count": 145, 
            "cell_type": "code", 
            "metadata": {}, 
            "outputs": [], 
            "source": "def count2(df,spark):\n        return spark.sql(\"SELECT count(*) as count2 from washing3\").first().count2"
        }, 
        {
            "execution_count": 146, 
            "cell_type": "code", 
            "metadata": {}, 
            "outputs": [], 
            "source": "def sdTemperature(df,spark):\n    return spark.sql(\"SELECT std(temperature) as stdtemp from washing3\").first().stdtemp"
        }, 
        {
            "source": "Please now do the same for the skew of the temperature. Since the SQL statement for this is a bit more complicated we've provided a skeleton for you. You have to insert custom code at four position in order to make the function work. Alternatively you can also remove everything and implement if on your own. Note that we are making use of two previously defined functions, so please make sure they are correct. Also note that we are making use of python's string formatting capabilitis where the results of the two function calls to \"meanTemperature\" and \"sdTemperature\" are inserted at the \"%s\" symbols in the SQL string.", 
            "cell_type": "markdown", 
            "metadata": {}
        }, 
        {
            "execution_count": 147, 
            "cell_type": "code", 
            "metadata": {}, 
            "outputs": [], 
            "source": "def skewTemperature(df,spark):    \n    return spark.sql(\"\"\"\nSELECT \n    (\n        count(temperature)/(count(temperature)-1)/(count(temperature)-2)\n    ) *\n    SUM (\n        POWER(temperature-%s,3)/POWER(%s,3)\n    )\n\nas skewtemp from washing3\n                    \"\"\" %(meanTemperature(df,spark),sdTemperature(df,spark))).first().skewtemp"
        }, 
        {
            "source": "Kurtosis is the 4th statistical moment, so if you are smart you can make use of the code for skew which is the 3rd statistical moment. Actually only two things are different.", 
            "cell_type": "markdown", 
            "metadata": {}
        }, 
        {
            "execution_count": 148, 
            "cell_type": "code", 
            "metadata": {}, 
            "outputs": [], 
            "source": "def kurtosisTemperature(df,spark):    \n    return spark.sql(\"\"\"\nSELECT \n    (\n        1/(count(temperature))\n    ) *\n    SUM (\n        POWER(temperature-%s,4)/POWER(%s,4)\n    )\n\nas kurttemp from washing3\n                    \"\"\" %(meanTemperature(df,spark),sdTemperature(df,spark))).first().kurttemp"
        }, 
        {
            "source": "Just a hint. This can be solved easily using SQL as well, but as shown in the lecture also using RDDs.", 
            "cell_type": "markdown", 
            "metadata": {}
        }, 
        {
            "execution_count": 149, 
            "cell_type": "code", 
            "metadata": {}, 
            "outputs": [], 
            "source": "def correlationTemperatureHardness(df,spark):\n    return spark.sql(\"SELECT corr(temperature,hardness) as corrtemp from washing3\").first().corrtemp"
        }, 
        {
            "source": "### PLEASE DON'T REMOVE THIS BLOCK - THE FOLLOWING CODE IS NOT GRADED\n#axx\n### PLEASE DON'T REMOVE THIS BLOCK - THE FOLLOWING CODE IS NOT GRADED", 
            "cell_type": "markdown", 
            "metadata": {}
        }, 
        {
            "source": "Now it is time to connect to the cloudant database. Please have a look at the Video \"Overview of end-to-end scenario\" of Week 2 starting from 6:40 in order to learn how to obtain the credentials for the database. Please paste this credentials as strings into the below code\n\n### TODO Please provide your Cloudant credentials here", 
            "cell_type": "markdown", 
            "metadata": {}
        }, 
        {
            "execution_count": 150, 
            "cell_type": "code", 
            "metadata": {}, 
            "outputs": [], 
            "source": "# The code was removed by Watson Studio for sharing."
        }, 
        {
            "execution_count": 151, 
            "cell_type": "code", 
            "metadata": {}, 
            "outputs": [], 
            "source": "#Please don't modify this function\ndef readDataFrameFromCloudant(database):\n    cloudantdata=spark.read.load(database, \"com.cloudant.spark\")\n\n    cloudantdata.createOrReplaceTempView(\"washing3\")\n    spark.sql(\"SELECT * from washing3\").show()\n    return cloudantdata"
        }, 
        {
            "execution_count": 152, 
            "cell_type": "code", 
            "metadata": {}, 
            "outputs": [], 
            "source": "spark = SparkSession\\\n    .builder\\\n    .appName(\"Cloudant Spark SQL Example in Python using temp tables\")\\\n    .config(\"cloudant.host\",credentials_1['custom_url'].split(':')[2].split('@')[1])\\\n    .config(\"cloudant.username\", credentials_1['username'])\\\n    .config(\"cloudant.password\",credentials_1['password'])\\\n    .config(\"jsonstore.rdd.partitions\", 1)\\\n    .getOrCreate()\n"
        }, 
        {
            "execution_count": 153, 
            "cell_type": "code", 
            "metadata": {}, 
            "outputs": [
                {
                    "output_type": "stream", 
                    "name": "stdout", 
                    "text": "+--------------------+--------------------+-----+--------+----------+---------+--------+-----+-----------+-------------+-------+\n|                 _id|                _rev|count|flowrate|fluidlevel|frequency|hardness|speed|temperature|           ts|voltage|\n+--------------------+--------------------+-----+--------+----------+---------+--------+-----+-----------+-------------+-------+\n|0a8ff417ca6ce636a...|1-9edba59c5e5b935...|    1|    null|      null|       62|    null| null|       null|1541539922536|    236|\n|0a8ff417ca6ce636a...|1-4d4a2ab9141dda0...|    5|      11|acceptable|     null|      80| null|         83|1541539924570|   null|\n|0a8ff417ca6ce636a...|1-542b8951845b1bf...|   22|      11|acceptable|     null|      73| null|         94|1541539941604|   null|\n|0a8ff417ca6ce636a...|1-72770272bb13073...|   24|      11|acceptable|     null|      75| null|         90|1541539943613|   null|\n|0a8ff417ca6ce636a...|1-260fe3b2e563bfa...|    5|    null|      null|     null|    null| 1061|       null|1541539944544|   null|\n|0a8ff417ca6ce636a...|1-201a434ec908393...|   16|    null|      null|       66|    null| null|       null|1541539967615|    237|\n|0a8ff417ca6ce636a...|1-2add67b6d9f7543...|   54|      11|acceptable|     null|      77| null|         95|1541539973682|   null|\n|0a8ff417ca6ce636a...|1-93bf14d7bdb7fa0...|   12|    null|      null|     null|    null| 1099|       null|1541539979568|   null|\n|0a8ff417ca6ce636a...|1-67cab722d202467...|   65|      11|acceptable|     null|      71| null|         81|1541539984783|   null|\n|0a8ff417ca6ce636a...|1-ac24eeb27b15b57...|   66|      11|acceptable|     null|      80| null|         81|1541539985785|   null|\n|0a8ff417ca6ce636a...|1-4ba8b0b17200666...|   71|      11|acceptable|     null|      78| null|         81|1541539990794|   null|\n|0a8ff417ca6ce636a...|1-6fe4438aa04b825...|   80|      11|acceptable|     null|      71| null|         94|1541539999834|   null|\n|0a8ff417ca6ce636a...|1-3d5b948e8f9a1f9...|   94|      11|acceptable|     null|      70| null|         86|1541540013868|   null|\n|0a8ff417ca6ce636a...|1-d8ae818b8e8b47d...|   95|      11|acceptable|     null|      77| null|         98|1541540014869|   null|\n|0a8ff417ca6ce636a...|1-d4c92aa7ca2ef4e...|  102|      11|acceptable|     null|      77| null|         89|1541540021885|   null|\n|0a8ff417ca6ce636a...|1-f7d5c352769179f...|  112|      11|acceptable|     null|      74| null|         90|1541540031911|   null|\n|0a8ff417ca6ce636a...|1-e149a5c9a6356d7...|  139|      11|acceptable|     null|     190| null|         80|1541540058965|   null|\n|0a8ff417ca6ce636a...|1-ec15f18babbb505...|  143|      11|acceptable|     null|      72| null|         86|1541540062971|   null|\n|0a8ff417ca6ce636a...|1-f668478c880c5bf...|  145|      11|acceptable|     null|      75| null|         80|1541540064973|   null|\n|0a8ff417ca6ce636a...|1-583f9d350bbcf20...|   49|    null|      null|       69|    null| null|       null|1541540066672|    234|\n+--------------------+--------------------+-----+--------+----------+---------+--------+-----+-----------+-------------+-------+\nonly showing top 20 rows\n\n"
                }
            ], 
            "source": "df=readDataFrameFromCloudant(database)"
        }, 
        {
            "execution_count": 154, 
            "cell_type": "code", 
            "metadata": {}, 
            "outputs": [
                {
                    "execution_count": 154, 
                    "metadata": {}, 
                    "data": {
                        "text/plain": "80"
                    }, 
                    "output_type": "execute_result"
                }
            ], 
            "source": "minTemperature(df,spark)"
        }, 
        {
            "execution_count": 155, 
            "cell_type": "code", 
            "metadata": {}, 
            "outputs": [
                {
                    "execution_count": 155, 
                    "metadata": {}, 
                    "data": {
                        "text/plain": "90.02431928724033"
                    }, 
                    "output_type": "execute_result"
                }
            ], 
            "source": "meanTemperature(df,spark)"
        }, 
        {
            "execution_count": 156, 
            "cell_type": "code", 
            "metadata": {}, 
            "outputs": [
                {
                    "execution_count": 156, 
                    "metadata": {}, 
                    "data": {
                        "text/plain": "100"
                    }, 
                    "output_type": "execute_result"
                }
            ], 
            "source": "maxTemperature(df,spark)"
        }, 
        {
            "execution_count": 157, 
            "cell_type": "code", 
            "metadata": {}, 
            "outputs": [
                {
                    "execution_count": 157, 
                    "metadata": {}, 
                    "data": {
                        "text/plain": "6.0407572709445"
                    }, 
                    "output_type": "execute_result"
                }
            ], 
            "source": "sdTemperature(df,spark)"
        }, 
        {
            "execution_count": 158, 
            "cell_type": "code", 
            "metadata": {}, 
            "outputs": [
                {
                    "execution_count": 158, 
                    "metadata": {}, 
                    "data": {
                        "text/plain": "-0.006611755915617365"
                    }, 
                    "output_type": "execute_result"
                }
            ], 
            "source": "skewTemperature(df,spark)"
        }, 
        {
            "execution_count": 159, 
            "cell_type": "code", 
            "metadata": {}, 
            "outputs": [
                {
                    "execution_count": 159, 
                    "metadata": {}, 
                    "data": {
                        "text/plain": "1.8037854219901737"
                    }, 
                    "output_type": "execute_result"
                }
            ], 
            "source": "kurtosisTemperature(df,spark)"
        }, 
        {
            "execution_count": 160, 
            "cell_type": "code", 
            "metadata": {}, 
            "outputs": [
                {
                    "execution_count": 160, 
                    "metadata": {}, 
                    "data": {
                        "text/plain": "0.005554632038252213"
                    }, 
                    "output_type": "execute_result"
                }
            ], 
            "source": "correlationTemperatureHardness(df,spark)"
        }, 
        {
            "source": "Congratulations, you are done, please download this notebook as python file using the export function and submit is to the gader using the filename \"assignment3.1.py\"", 
            "cell_type": "markdown", 
            "metadata": {}
        }
    ], 
    "metadata": {
        "kernelspec": {
            "display_name": "Python 3.5 with Spark 2.1", 
            "name": "python3-spark21", 
            "language": "python"
        }, 
        "language_info": {
            "mimetype": "text/x-python", 
            "nbconvert_exporter": "python", 
            "version": "3.5.4", 
            "name": "python", 
            "file_extension": ".py", 
            "pygments_lexer": "ipython3", 
            "codemirror_mode": {
                "version": 3, 
                "name": "ipython"
            }
        }
    }, 
    "nbformat": 4
}